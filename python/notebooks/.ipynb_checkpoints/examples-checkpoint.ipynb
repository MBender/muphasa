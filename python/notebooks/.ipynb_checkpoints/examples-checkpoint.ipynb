{
 "cells": [
  {
   "cell_type": "code",
   "execution_count": 1,
   "metadata": {},
   "outputs": [],
   "source": [
    "import mph\n",
    "import numpy as np"
   ]
  },
  {
   "cell_type": "code",
   "execution_count": 3,
   "metadata": {},
   "outputs": [
    {
     "name": "stdout",
     "output_type": "stream",
     "text": [
      "         \t[38 16  2]\t[27 37 47]\t[37 24 81]\t[87 37  8]\t[11 76 59]\n",
      "[0, 0, 0]\t1         \t1         \t1         \t1         \t0         \n",
      "[0, 0, 0]\t0         \t1         \t1         \t1         \t0         \n",
      "[0, 0, 0]\t1         \t1         \t1         \t1         \t0         \n",
      "         \t[38, 16, 2]\t[87, 37, 8]\t[27, 37, 47]\t[38, 37, 47]\t[37, 24, 81]\t[38, 24, 81]\n",
      "[0, 0, 0]\t1          \t0          \t1           \t0           \t1           \t0           \n",
      "[0, 0, 0]\t0          \t1          \t1           \t1           \t1           \t1           \n",
      "[0, 0, 0]\t1          \t0          \t1           \t0           \t1           \t0           \n",
      "            \t[87, 37, 47]\t[11, 76, 59]\t[37, 37, 81]\n",
      "[38, 16, 2] \t0           \t0           \t0           \n",
      "[27, 37, 47]\t1           \t0           \t1           \n",
      "[37, 24, 81]\t0           \t0           \t1           \n",
      "[87, 37, 8] \t1           \t0           \t0           \n",
      "[11, 76, 59]\t0           \t1           \t0           \n"
     ]
    }
   ],
   "source": [
    "''' Computing the Groebner bases of the image and kernel of a random map of free p-graded modules '''\n",
    "\n",
    "random_map, image_gb, kernel_gb = mph.examples.random_map_gbs(3, 5, n_parameters=3, grade_range=100)\n",
    "print(random_map)\n",
    "print(image_gb)\n",
    "print(kernel_gb)"
   ]
  },
  {
   "cell_type": "code",
   "execution_count": 3,
   "metadata": {},
   "outputs": [
    {
     "name": "stdout",
     "output_type": "stream",
     "text": [
      "                \t[57, 71, 64, 94]\t[85, 71, 60, 94]\t[85, 71, 60, 94]\t[69, 71, 53, 94]\n",
      "[85, 63, 60, 3] \t0               \t1               \t1               \t0               \n",
      "[51, 40, 64, 38]\t1               \t0               \t0               \t0               \n",
      "[69, 71, 33, 61]\t0               \t0               \t1               \t1               \n",
      "[57, 71, 53, 94]\t1               \t0               \t0               \t1               \n",
      "[69, 47, 53, 94]\t0               \t0               \t0               \t1               \n"
     ]
    }
   ],
   "source": [
    "''' The presentation of a random Free Implicit representation. '''\n",
    "\n",
    "presentation_matrix = mph.examples.random_FIrep_presentation(5, 9, n_parameters=4, grade_range=100)\n",
    "print(presentation_matrix)"
   ]
  },
  {
   "cell_type": "code",
   "execution_count": null,
   "metadata": {},
   "outputs": [],
   "source": [
    "low_matrix = np.random.choice([0, 1], size=(m, n), p=[density, 1-density])\n",
    "# Choose random grades for the columns\n",
    "column_grades_l = [ np.random.choice(grade_range, size=(n_parameters,)) for _ in range(n) ]\n",
    "# Compute the kernel of this graded matrix\n",
    "output = mph.groebner_bases(low_matrix, column_grades_l)"
   ]
  }
 ],
 "metadata": {
  "@webio": {
   "lastCommId": null,
   "lastKernelId": null
  },
  "kernelspec": {
   "display_name": "Python 3",
   "language": "python",
   "name": "python3"
  },
  "language_info": {
   "codemirror_mode": {
    "name": "ipython",
    "version": 3
   },
   "file_extension": ".py",
   "mimetype": "text/x-python",
   "name": "python",
   "nbconvert_exporter": "python",
   "pygments_lexer": "ipython3",
   "version": "3.7.6"
  }
 },
 "nbformat": 4,
 "nbformat_minor": 2
}
