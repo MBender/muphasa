{
 "cells": [
  {
   "cell_type": "code",
   "execution_count": null,
   "id": "134d86ff",
   "metadata": {},
   "outputs": [],
   "source": [
    "import mph\n",
    "import numpy as np"
   ]
  },
  {
   "cell_type": "code",
   "execution_count": null,
   "id": "0dfd13da",
   "metadata": {},
   "outputs": [],
   "source": [
    "''' Computing the Groebner bases of the image and kernel of a random map of free p-graded modules '''\n",
    "\n",
    "random_map, image_gb, kernel_gb = mph.examples.random_map_gbs(3, 5, n_parameters=3, grade_range=100)\n",
    "print(random_map)\n",
    "print(image_gb)\n",
    "print(kernel_gb)"
   ]
  },
  {
   "cell_type": "code",
   "execution_count": null,
   "id": "2052a201",
   "metadata": {},
   "outputs": [],
   "source": [
    "''' The presentation of a random Free Implicit representation. '''\n",
    "\n",
    "presentation_matrix = mph.examples.random_FIrep_presentation(50, 90, n_parameters=3, grade_range=100)\n",
    "print(presentation_matrix)"
   ]
  },
  {
   "cell_type": "code",
   "execution_count": null,
   "id": "57e0fda1",
   "metadata": {},
   "outputs": [],
   "source": [
    "m=6\n",
    "n=12\n",
    "density = 0.5\n",
    "n_parameters = 3\n",
    "grade_range = 10000\n",
    "low_matrix = np.random.choice([0, 1], size=(m, n), p=[density, 1-density])\n",
    "# Choose random grades for the columns\n",
    "column_grades_l = [ np.random.choice(grade_range, size=(n_parameters,)) for _ in range(n) ]\n",
    "# Compute the kernel of this graded matrix\n",
    "output = mph.groebner_bases(low_matrix, column_grades_l)"
   ]
  },
  {
   "cell_type": "code",
   "execution_count": null,
   "id": "783dacb2",
   "metadata": {},
   "outputs": [],
   "source": [
    "print(output[1])"
   ]
  },
  {
   "cell_type": "code",
   "execution_count": null,
   "id": "29c0fb97",
   "metadata": {},
   "outputs": [],
   "source": []
  }
 ],
 "metadata": {
  "kernelspec": {
   "display_name": "Python 3",
   "language": "python",
   "name": "python3"
  },
  "language_info": {
   "codemirror_mode": {
    "name": "ipython",
    "version": 3
   },
   "file_extension": ".py",
   "mimetype": "text/x-python",
   "name": "python",
   "nbconvert_exporter": "python",
   "pygments_lexer": "ipython3",
   "version": "3.9.1"
  }
 },
 "nbformat": 4,
 "nbformat_minor": 5
}
