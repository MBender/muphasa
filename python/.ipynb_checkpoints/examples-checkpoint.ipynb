{
 "cells": [
  {
   "cell_type": "code",
   "execution_count": 2,
   "metadata": {},
   "outputs": [
    {
     "ename": "ModuleNotFoundError",
     "evalue": "No module named 'mph'",
     "output_type": "error",
     "traceback": [
      "\u001b[0;31m---------------------------------------------------------------------------\u001b[0m",
      "\u001b[0;31mModuleNotFoundError\u001b[0m                       Traceback (most recent call last)",
      "\u001b[0;32m<ipython-input-2-d5f4c81c0842>\u001b[0m in \u001b[0;36m<module>\u001b[0;34m\u001b[0m\n\u001b[0;32m----> 1\u001b[0;31m \u001b[0;32mimport\u001b[0m \u001b[0mmph\u001b[0m\u001b[0;34m\u001b[0m\u001b[0;34m\u001b[0m\u001b[0m\n\u001b[0m\u001b[1;32m      2\u001b[0m \u001b[0;32mimport\u001b[0m \u001b[0mnumpy\u001b[0m \u001b[0;32mas\u001b[0m \u001b[0mnp\u001b[0m\u001b[0;34m\u001b[0m\u001b[0;34m\u001b[0m\u001b[0m\n",
      "\u001b[0;31mModuleNotFoundError\u001b[0m: No module named 'mph'"
     ]
    }
   ],
   "source": [
    "import mph\n",
    "import numpy as np"
   ]
  },
  {
   "cell_type": "code",
   "execution_count": 3,
   "metadata": {},
   "outputs": [
    {
     "name": "stdout",
     "output_type": "stream",
     "text": [
      "         \t[38 16  2]\t[27 37 47]\t[37 24 81]\t[87 37  8]\t[11 76 59]\n",
      "[0, 0, 0]\t1         \t1         \t1         \t1         \t0         \n",
      "[0, 0, 0]\t0         \t1         \t1         \t1         \t0         \n",
      "[0, 0, 0]\t1         \t1         \t1         \t1         \t0         \n",
      "         \t[38, 16, 2]\t[87, 37, 8]\t[27, 37, 47]\t[38, 37, 47]\t[37, 24, 81]\t[38, 24, 81]\n",
      "[0, 0, 0]\t1          \t0          \t1           \t0           \t1           \t0           \n",
      "[0, 0, 0]\t0          \t1          \t1           \t1           \t1           \t1           \n",
      "[0, 0, 0]\t1          \t0          \t1           \t0           \t1           \t0           \n",
      "            \t[87, 37, 47]\t[11, 76, 59]\t[37, 37, 81]\n",
      "[38, 16, 2] \t0           \t0           \t0           \n",
      "[27, 37, 47]\t1           \t0           \t1           \n",
      "[37, 24, 81]\t0           \t0           \t1           \n",
      "[87, 37, 8] \t1           \t0           \t0           \n",
      "[11, 76, 59]\t0           \t1           \t0           \n"
     ]
    }
   ],
   "source": [
    "''' Computing the Groebner bases of the image and kernel of a random map of free p-graded modules '''\n",
    "\n",
    "random_map, image_gb, kernel_gb = mph.examples.random_map_gbs(3, 5, n_parameters=3, grade_range=100)\n",
    "print(random_map)\n",
    "print(image_gb)\n",
    "print(kernel_gb)"
   ]
  },
  {
   "cell_type": "code",
   "execution_count": 3,
   "metadata": {},
   "outputs": [
    {
     "name": "stdout",
     "output_type": "stream",
     "text": [
      "                \t[57, 71, 64, 94]\t[85, 71, 60, 94]\t[85, 71, 60, 94]\t[69, 71, 53, 94]\n",
      "[85, 63, 60, 3] \t0               \t1               \t1               \t0               \n",
      "[51, 40, 64, 38]\t1               \t0               \t0               \t0               \n",
      "[69, 71, 33, 61]\t0               \t0               \t1               \t1               \n",
      "[57, 71, 53, 94]\t1               \t0               \t0               \t1               \n",
      "[69, 47, 53, 94]\t0               \t0               \t0               \t1               \n"
     ]
    }
   ],
   "source": [
    "''' The presentation of a random Free Implicit representation. '''\n",
    "\n",
    "presentation_matrix = mph.examples.random_FIrep_presentation(5, 9, n_parameters=4, grade_range=100)\n",
    "print(presentation_matrix)"
   ]
  },
  {
   "cell_type": "code",
   "execution_count": 3,
   "metadata": {},
   "outputs": [],
   "source": [
    "m=6\n",
    "n=12\n",
    "density = 0.5\n",
    "n_parameters = 3\n",
    "grade_range = 10000\n",
    "low_matrix = np.random.choice([0, 1], size=(m, n), p=[density, 1-density])\n",
    "# Choose random grades for the columns\n",
    "column_grades_l = [ np.random.choice(grade_range, size=(n_parameters,)) for _ in range(n) ]\n",
    "# Compute the kernel of this graded matrix\n",
    "output = mph.groebner_bases(low_matrix, column_grades_l)"
   ]
  },
  {
   "cell_type": "code",
   "execution_count": 6,
   "metadata": {},
   "outputs": [
    {
     "name": "stdout",
     "output_type": "stream",
     "text": [
      "                  \t[8367, 4122, 2186]\t[8809, 9306, 4735]\t[8887, 6149, 5265]\t[7366, 9306, 7117]\t[8809, 6125, 7117]\t[7113, 8009, 9072]\t[7084, 8009, 9660]\t[7113, 6141, 9660]\n",
      "[7113, 6141, 9072]\t0                 \t0                 \t0                 \t0                 \t0                 \t1                 \t0                 \t1                 \n",
      "[4801, 2034, 218] \t1                 \t0                 \t0                 \t1                 \t1                 \t0                 \t1                 \t1                 \n",
      "[8809, 6125, 4735]\t0                 \t1                 \t1                 \t0                 \t1                 \t0                 \t0                 \t0                 \n",
      "[3185, 9306, 2813]\t0                 \t1                 \t0                 \t1                 \t0                 \t0                 \t0                 \t0                 \n",
      "[3801, 1264, 7117]\t0                 \t0                 \t0                 \t1                 \t1                 \t1                 \t0                 \t1                 \n",
      "[8887, 6149, 3246]\t0                 \t0                 \t1                 \t0                 \t0                 \t0                 \t0                 \t0                 \n",
      "[7084, 1840, 695] \t1                 \t1                 \t1                 \t0                 \t1                 \t0                 \t1                 \t1                 \n",
      "[7366, 4462, 5265]\t0                 \t0                 \t1                 \t1                 \t1                 \t0                 \t0                 \t0                 \n",
      "[1295, 3014, 9660]\t0                 \t0                 \t0                 \t0                 \t0                 \t0                 \t1                 \t1                 \n",
      "[4486, 8009, 2725]\t0                 \t0                 \t0                 \t0                 \t0                 \t1                 \t1                 \t0                 \n",
      "[8367, 4122, 2186]\t1                 \t0                 \t0                 \t0                 \t0                 \t0                 \t0                 \t0                 \n",
      "[6062, 5075, 3286]\t0                 \t0                 \t0                 \t0                 \t0                 \t0                 \t0                 \t0                 \n"
     ]
    }
   ],
   "source": [
    "print(output[1])"
   ]
  },
  {
   "cell_type": "code",
   "execution_count": null,
   "metadata": {},
   "outputs": [],
   "source": []
  }
 ],
 "metadata": {
  "@webio": {
   "lastCommId": null,
   "lastKernelId": null
  },
  "kernelspec": {
   "display_name": "Python 3",
   "language": "python",
   "name": "python3"
  },
  "language_info": {
   "codemirror_mode": {
    "name": "ipython",
    "version": 3
   },
   "file_extension": ".py",
   "mimetype": "text/x-python",
   "name": "python",
   "nbconvert_exporter": "python",
   "pygments_lexer": "ipython3",
   "version": "3.9.1"
  }
 },
 "nbformat": 4,
 "nbformat_minor": 2
}
