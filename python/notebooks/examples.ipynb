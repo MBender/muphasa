{
 "cells": [
  {
   "cell_type": "code",
   "execution_count": 1,
   "id": "134d86ff",
   "metadata": {},
   "outputs": [],
   "source": [
    "import mph\n",
    "import numpy as np"
   ]
  },
  {
   "cell_type": "code",
   "execution_count": 2,
   "id": "0dfd13da",
   "metadata": {},
   "outputs": [
    {
     "name": "stdout",
     "output_type": "stream",
     "text": [
      "         \t[ 5  3 33]\t[56 45 54]\t[29 92 86]\t[ 5 27 50]\t[37 25 14]\n",
      "[0, 0, 0]\t0         \t1         \t1         \t1         \t0         \n",
      "[0, 0, 0]\t0         \t1         \t0         \t1         \t0         \n",
      "[0, 0, 0]\t1         \t0         \t0         \t0         \t1         Starting to compute Groebner bases...\n",
      "\n",
      "         \t[37, 25, 14]\t[5, 3, 33]\t[5, 27, 50]\t[29, 92, 86]\n",
      "[0, 0, 0]\t0           \t0         \t1          \t1           \n",
      "[0, 0, 0]\t0           \t0         \t1          \t0           \n",
      "[0, 0, 0]\t1           \t1         \t0          \t0           Finished computing Groebner bases.\n",
      "\n",
      "            \t[37, 25, 33]\t[56, 45, 54]\n",
      "[5, 3, 33]  \t1           \t0           \n",
      "[56, 45, 54]\t0           \t1           \n",
      "[29, 92, 86]\t0           \t0           \n",
      "[5, 27, 50] \t0           \t1           \n",
      "[37, 25, 14]\t1           \t0           \n"
     ]
    }
   ],
   "source": [
    "''' Computing the Groebner bases of the image and kernel of a random map of free p-graded modules '''\n",
    "\n",
    "random_map, image_gb, kernel_gb = mph.examples.random_map_gbs(3, 5, n_parameters=3, grade_range=100)\n",
    "print(random_map)\n",
    "print(image_gb)\n",
    "print(kernel_gb)"
   ]
  },
  {
   "cell_type": "code",
   "execution_count": 9,
   "id": "2052a201",
   "metadata": {},
   "outputs": [
    {
     "name": "stdout",
     "output_type": "stream",
     "text": [
      "Starting to compute Groebner bases...\n",
      "Finished computing Groebner bases.\n"
     ]
    }
   ],
   "source": [
    "m=6\n",
    "n=12\n",
    "density = 0.5\n",
    "n_parameters = 3\n",
    "grade_range = 10000\n",
    "low_matrix = np.random.choice([0, 1], size=(m, n), p=[density, 1-density])\n",
    "# Choose random grades for the columns\n",
    "column_grades_l = [ np.random.choice(grade_range, size=(n_parameters,)) for _ in range(n) ]\n",
    "# Compute the kernel of this graded matrix\n",
    "output = mph.groebner_bases(low_matrix, column_grades_l)"
   ]
  },
  {
   "cell_type": "code",
   "execution_count": 10,
   "id": "57e0fda1",
   "metadata": {},
   "outputs": [
    {
     "name": "stdout",
     "output_type": "stream",
     "text": [
      "                  \t[6908, 6714, 6303]\t[5127, 7793, 6525]\t[3814, 7793, 6910]\t[5127, 6714, 6910]\t[6908, 5981, 6910]\t[8440, 9899, 7269]\t[5642, 5981, 9714]\t[6908, 5046, 9714]\t[7416, 6955, 9937]\n",
      "[1953, 7793, 1529]\t0                 \t1                 \t1                 \t0                 \t0                 \t1                 \t0                 \t0                 \t0                 \n",
      "[2676, 5046, 5549]\t0                 \t1                 \t0                 \t1                 \t1                 \t1                 \t0                 \t1                 \t1                 \n",
      "[3814, 3866, 6910]\t0                 \t0                 \t1                 \t1                 \t1                 \t0                 \t0                 \t1                 \t0                 \n",
      "[3222, 6430, 3923]\t0                 \t1                 \t1                 \t0                 \t0                 \t1                 \t0                 \t0                 \t0                 \n",
      "[8440, 9899, 7269]\t0                 \t0                 \t0                 \t0                 \t0                 \t1                 \t0                 \t0                 \t0                 \n",
      "[6843, 5180, 3564]\t0                 \t0                 \t0                 \t0                 \t0                 \t0                 \t0                 \t0                 \t1                 \n",
      "[6908, 1881, 93]  \t1                 \t0                 \t0                 \t0                 \t1                 \t0                 \t0                 \t1                 \t0                 \n",
      "[5642, 5981, 1655]\t1                 \t0                 \t0                 \t0                 \t1                 \t1                 \t1                 \t0                 \t0                 \n",
      "[1684, 1902, 9714]\t0                 \t0                 \t0                 \t0                 \t0                 \t0                 \t1                 \t1                 \t0                 \n",
      "[7416, 6955, 9937]\t0                 \t0                 \t0                 \t0                 \t0                 \t0                 \t0                 \t0                 \t1                 \n",
      "[639, 3485, 6525] \t0                 \t1                 \t1                 \t0                 \t0                 \t0                 \t1                 \t1                 \t0                 \n",
      "[5127, 6714, 6303]\t1                 \t1                 \t0                 \t1                 \t0                 \t0                 \t0                 \t0                 \t0                 \n"
     ]
    }
   ],
   "source": [
    "print(output[1])"
   ]
  }
 ],
 "metadata": {
  "kernelspec": {
   "display_name": "Python 3 (ipykernel)",
   "language": "python",
   "name": "python3"
  },
  "language_info": {
   "codemirror_mode": {
    "name": "ipython",
    "version": 3
   },
   "file_extension": ".py",
   "mimetype": "text/x-python",
   "name": "python",
   "nbconvert_exporter": "python",
   "pygments_lexer": "ipython3",
   "version": "3.10.1"
  }
 },
 "nbformat": 4,
 "nbformat_minor": 5
}
